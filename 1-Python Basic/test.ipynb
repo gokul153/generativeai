{
 "cells": [
  {
   "cell_type": "code",
   "execution_count": null,
   "metadata": {},
   "outputs": [],
   "source": [
    "print(1+1)"
   ]
  },
  {
   "cell_type": "code",
   "execution_count": null,
   "metadata": {},
   "outputs": [],
   "source": [
    "## Basic Syntax Rules In Python\n"
   ]
  },
  {
   "cell_type": "code",
   "execution_count": null,
   "metadata": {},
   "outputs": [],
   "source": [
    "# indentation\n",
    "age=32\n",
    "if age>20:\n",
    "    print(\"Eligible\")"
   ]
  },
  {
   "cell_type": "code",
   "execution_count": null,
   "metadata": {},
   "outputs": [],
   "source": [
    "a=100"
   ]
  },
  {
   "cell_type": "code",
   "execution_count": null,
   "metadata": {},
   "outputs": [],
   "source": [
    "isStudent = False;"
   ]
  },
  {
   "cell_type": "code",
   "execution_count": null,
   "metadata": {},
   "outputs": [],
   "source": [
    "print(\"IS student\",isStudent);"
   ]
  },
  {
   "cell_type": "code",
   "execution_count": null,
   "metadata": {},
   "outputs": [],
   "source": [
    "height =5.11"
   ]
  },
  {
   "cell_type": "code",
   "execution_count": null,
   "metadata": {},
   "outputs": [],
   "source": [
    "print(type(height))\n",
    "print(int(height))"
   ]
  },
  {
   "cell_type": "code",
   "execution_count": null,
   "metadata": {},
   "outputs": [],
   "source": [
    "##  Dynamic Typing\n",
    "## Python allows the type of variable to change as the program exceuts\n",
    "var =10\n",
    "print(var,type(var))\n",
    "var=3.14\n",
    "print(var,type(var))"
   ]
  },
  {
   "cell_type": "code",
   "execution_count": null,
   "metadata": {},
   "outputs": [],
   "source": [
    "age = input(\"What is the age\")\n",
    "print(age,type(age))"
   ]
  },
  {
   "cell_type": "code",
   "execution_count": null,
   "metadata": {},
   "outputs": [],
   "source": [
    "num1 = float(input(\"ENter the number\"))\n",
    "num2 =  float(input(\"ENter the number\"))\n",
    "sum =num1+num2\n",
    "sub = num1-num2\n",
    "print(\"SUm is \",sum)\n",
    "print(\"subtraction\",sub)"
   ]
  },
  {
   "cell_type": "code",
   "execution_count": null,
   "metadata": {},
   "outputs": [],
   "source": [
    "a=10\n",
    "b=10\n",
    "a== b\n",
    "type(a==b)"
   ]
  },
  {
   "cell_type": "code",
   "execution_count": null,
   "metadata": {},
   "outputs": [],
   "source": [
    "str1= \"gokul\"\n",
    "str2 = \"Gokul\"\n",
    "str1 == str2"
   ]
  },
  {
   "cell_type": "markdown",
   "metadata": {},
   "source": []
  },
  {
   "cell_type": "code",
   "execution_count": null,
   "metadata": {},
   "outputs": [],
   "source": [
    "# greater than \n",
    "a=45\n",
    "num2=55\n",
    "num2>a"
   ]
  },
  {
   "cell_type": "code",
   "execution_count": null,
   "metadata": {},
   "outputs": [],
   "source": [
    "Control FLow "
   ]
  },
  {
   "cell_type": "markdown",
   "metadata": {},
   "source": [
    "## if statement "
   ]
  },
  {
   "cell_type": "code",
   "execution_count": null,
   "metadata": {},
   "outputs": [],
   "source": []
  },
  {
   "cell_type": "code",
   "execution_count": null,
   "metadata": {},
   "outputs": [],
   "source": [
    "age=1\n",
    "if age>20:\n",
    "    print(\"Allows\")\n",
    "elif age==20:\n",
    "    print(\"Welcome to 20s\")   \n",
    "else :\n",
    "    print(\"Not declared\")     \n"
   ]
  },
  {
   "cell_type": "code",
   "execution_count": null,
   "metadata": {},
   "outputs": [],
   "source": [
    "## leap year\n",
    "year = int(input(\"ENter the year\"))\n",
    "if year%4==0:\n",
    "    if year%100==0:\n",
    "        if year %400 ==0:\n",
    "            print(\"Yes it's a leap year\")\n",
    "        else:\n",
    "            print(\"Year not leap\")   \n",
    "    else:\n",
    "        print(\"False\")  \n",
    "else:\n",
    "    print(\"False\")      \n",
    "\n"
   ]
  },
  {
   "cell_type": "code",
   "execution_count": null,
   "metadata": {},
   "outputs": [],
   "source": [
    "### for looop## range is 5 means 0 to 4\n",
    "for i in range(1,6):\n",
    "    print(i)"
   ]
  },
  {
   "cell_type": "code",
   "execution_count": null,
   "metadata": {},
   "outputs": [],
   "source": [
    "## 2 is a step size \n",
    "for i in range(1,10,2):\n",
    "    print(i)\n",
    "for j in range(10,0,-3):\n",
    "    print(\"reversed\"+str(j))    "
   ]
  },
  {
   "cell_type": "code",
   "execution_count": null,
   "metadata": {},
   "outputs": [],
   "source": [
    "## string \n",
    "str = \"Gokul Das is Kolla Mass\"\n",
    "newstr=\"\"\n",
    "\n",
    "j=0\n",
    "for i in range(0,len(str)):\n",
    "    if(i%2==0):\n",
    "        newstr=newstr+str[i]\n",
    "        \n",
    "print(newstr)\n",
    "\n",
    "   "
   ]
  },
  {
   "cell_type": "code",
   "execution_count": 2,
   "metadata": {},
   "outputs": [
    {
     "name": "stdout",
     "output_type": "stream",
     "text": [
      "Improve your life\n",
      "Improve your life\n",
      "Improve your life\n",
      "Improve your life\n",
      "Improve your life\n",
      "Improve your life\n",
      "Improve your life\n",
      "Improve your life\n",
      "Improve your life\n",
      "Improve your life\n",
      "Improve your life\n",
      "Improve your life\n",
      "Improve your life\n",
      "Improve your life\n",
      "Improve your life\n",
      "Improve your life\n",
      "Improve your life\n",
      "Improve your life\n",
      "Improve your life\n",
      "Improve your life\n",
      "Improve your life\n",
      "Improve your life\n",
      "Improve your life\n",
      "Improve your life\n",
      "Improve your life\n",
      "Improve your life\n",
      "Improve your life\n",
      "Improve your life\n",
      "Improve your life\n",
      "Improve your life\n",
      "Improve your life\n",
      "Improve your life\n",
      "Improve your life\n",
      "Improve your life\n",
      "Improve your life\n",
      "Improve your life\n",
      "Improve your life\n",
      "Improve your life\n",
      "Improve your life\n",
      "Improve your life\n"
     ]
    }
   ],
   "source": [
    "age = 0\n",
    "while age<40:\n",
    "    print(\"Improve your life\")\n",
    "    age+=1"
   ]
  },
  {
   "cell_type": "code",
   "execution_count": 6,
   "metadata": {},
   "outputs": [
    {
     "name": "stdout",
     "output_type": "stream",
     "text": [
      "0\n",
      "2\n",
      "4\n",
      "6\n"
     ]
    }
   ],
   "source": [
    "for i in range(0,10,2):\n",
    "    \n",
    "    if(i==8):\n",
    "        continue\n",
    "    print(i)\n"
   ]
  },
  {
   "cell_type": "code",
   "execution_count": 9,
   "metadata": {},
   "outputs": [
    {
     "name": "stdout",
     "output_type": "stream",
     "text": [
      "0\n",
      "1\n",
      "pass\n",
      "2\n",
      "3\n",
      "4\n",
      "5\n",
      "6\n",
      "7\n",
      "8\n",
      "9\n"
     ]
    }
   ],
   "source": [
    "##paass  is null operation do nothing\n",
    "for i in range(0,10):\n",
    "    if(i==2):\n",
    "        print(\"pass\")\n",
    "        pass\n",
    "    print(i)"
   ]
  },
  {
   "cell_type": "code",
   "execution_count": 11,
   "metadata": {},
   "outputs": [
    {
     "name": "stdout",
     "output_type": "stream",
     "text": [
      "i is 0 j is 0\n",
      "i is 0 j is 1\n",
      "i is 0 j is 2\n",
      "i is 1 j is 0\n",
      "i is 1 j is 1\n",
      "i is 1 j is 2\n",
      "i is 2 j is 0\n",
      "i is 2 j is 1\n",
      "i is 2 j is 2\n"
     ]
    }
   ],
   "source": [
    "## nested loops \n",
    "for i in range(3):\n",
    "    for j in range(3):\n",
    "        print(f\"i is {i} j is {j}\")  \n"
   ]
  },
  {
   "cell_type": "code",
   "execution_count": 12,
   "metadata": {},
   "outputs": [],
   "source": [
    "## calculate first  natural number"
   ]
  },
  {
   "cell_type": "code",
   "execution_count": 16,
   "metadata": {},
   "outputs": [
    {
     "name": "stdout",
     "output_type": "stream",
     "text": [
      "55\n"
     ]
    }
   ],
   "source": [
    "N= input(\"Enter the upper limit\")\n",
    "i=0\n",
    "sum=0\n",
    "while(i<=int(N)):\n",
    "    sum=sum+i\n",
    "    i+=1\n",
    "print(sum)"
   ]
  },
  {
   "cell_type": "code",
   "execution_count": 28,
   "metadata": {},
   "outputs": [
    {
     "name": "stdout",
     "output_type": "stream",
     "text": [
      "2\n",
      "3\n",
      "5\n",
      "7\n",
      "11\n",
      "13\n",
      "17\n",
      "19\n",
      "23\n",
      "29\n",
      "31\n",
      "37\n",
      "41\n",
      "43\n",
      "47\n",
      "53\n",
      "59\n",
      "61\n",
      "67\n",
      "71\n",
      "73\n",
      "79\n",
      "83\n",
      "89\n",
      "97\n"
     ]
    }
   ],
   "source": [
    "## display prime number between one and 100\n",
    "i=0\n",
    "\n",
    "for num in range(1,101):\n",
    "    notprime=False\n",
    "    if num>1:\n",
    "        for i in range(2,num):\n",
    "            if(num%i==0):\n",
    "                break\n",
    "        else:\n",
    "            print(num)\n",
    "        \n",
    "        \n",
    "        \n",
    "       \n",
    "\n"
   ]
  },
  {
   "cell_type": "code",
   "execution_count": 29,
   "metadata": {},
   "outputs": [],
   "source": [
    "#LIST\n",
    "##List are ordred and muttable colection"
   ]
  },
  {
   "cell_type": "code",
   "execution_count": 32,
   "metadata": {},
   "outputs": [
    {
     "data": {
      "text/plain": [
       "list"
      ]
     },
     "execution_count": 32,
     "metadata": {},
     "output_type": "execute_result"
    }
   ],
   "source": [
    "lst = []\n",
    "type(lst)"
   ]
  },
  {
   "cell_type": "code",
   "execution_count": 35,
   "metadata": {},
   "outputs": [
    {
     "name": "stdout",
     "output_type": "stream",
     "text": [
      "['Gokul ', 'gobi', 'Akshay', 'Nikhil', 1256]\n"
     ]
    }
   ],
   "source": [
    "name = [\"Gokul \", \"gobi\",\"Akshay\",\"Nikhil\",1256]\n",
    "print(name)"
   ]
  },
  {
   "cell_type": "code",
   "execution_count": 39,
   "metadata": {},
   "outputs": [],
   "source": [
    "##aAccess list\n",
    "name[2]\n",
    "name.extend(\"Holly\")"
   ]
  },
  {
   "cell_type": "code",
   "execution_count": 41,
   "metadata": {},
   "outputs": [
    {
     "data": {
      "text/plain": [
       "['Gokul ', 'gobi', 'Akshay', 'Nikhil', 1256, 'H', 'o', 'l', 'l', 'y']"
      ]
     },
     "execution_count": 41,
     "metadata": {},
     "output_type": "execute_result"
    }
   ],
   "source": [
    "name"
   ]
  },
  {
   "cell_type": "code",
   "execution_count": 42,
   "metadata": {},
   "outputs": [
    {
     "data": {
      "text/plain": [
       "['Akshay', 'Nikhil', 1256, 'H', 'o', 'l', 'l', 'y']"
      ]
     },
     "execution_count": 42,
     "metadata": {},
     "output_type": "execute_result"
    }
   ],
   "source": [
    "name[2:]"
   ]
  },
  {
   "cell_type": "code",
   "execution_count": 50,
   "metadata": {},
   "outputs": [
    {
     "name": "stdout",
     "output_type": "stream",
     "text": [
      "['Gokul ', 'gobi', 'Akshay', 'Nikhil', 1256, 'H', 'o', 'l', 'l', 'y', 'MAkkan', 'MAkkan', 'MAkkan']\n"
     ]
    }
   ],
   "source": [
    "## List methods\n",
    "name.append(\"MAkkan\")\n",
    "print(name)"
   ]
  },
  {
   "cell_type": "code",
   "execution_count": 54,
   "metadata": {},
   "outputs": [
    {
     "name": "stdout",
     "output_type": "stream",
     "text": [
      "['Pushpan', 'Pushpan', 'Pushpan', 'Pushpan', 'Gokul ', 'gobi', 'Akshay', 'Nikhil', 1256, 'H', 'o', 'l', 'l', 'y', 'MAkkan', 'MAkkan', 'MAkkan']\n"
     ]
    }
   ],
   "source": [
    "name.insert(0,\"Pushpan\")\n",
    "print(name)"
   ]
  },
  {
   "cell_type": "markdown",
   "metadata": {},
   "source": [
    "Nrested List commprehensation\n",
    "with conditional list logic"
   ]
  },
  {
   "cell_type": "code",
   "execution_count": 61,
   "metadata": {},
   "outputs": [
    {
     "name": "stdout",
     "output_type": "stream",
     "text": [
      "['Pushpan', 'Pushpan', 'Pushpan', 'Pushpan', 'Gokul ', 'gobi', 'Akshay', 'Nikhil', 1256, 'H', 'o', 'l']\n"
     ]
    }
   ],
   "source": [
    "name.pop()\n",
    "print(name)"
   ]
  },
  {
   "cell_type": "code",
   "execution_count": 87,
   "metadata": {},
   "outputs": [
    {
     "name": "stdout",
     "output_type": "stream",
     "text": [
      "[[1, 'a'], [1, 'b'], [1, 'c'], [1, 'd'], [2, 'a'], [2, 'b'], [2, 'c'], [2, 'd'], [3, 'a'], [3, 'b'], [3, 'c'], [3, 'd']]\n"
     ]
    }
   ],
   "source": [
    "\n",
    "lst1 = [1,2,3]\n",
    "lst2=['a','b','c','d']\n",
    "pair=[[i,j] for i in lst1 for j in lst2]\n",
    "print(pair)"
   ]
  },
  {
   "cell_type": "code",
   "execution_count": 65,
   "metadata": {},
   "outputs": [
    {
     "name": "stdout",
     "output_type": "stream",
     "text": [
      "['Gokul ', 'gobi', 'Akshay', 'Nikhil', 1256, 'H', 'o', 'l']\n"
     ]
    }
   ],
   "source": [
    "name.remove(\"Pushpan\")   ## Removes the first single occurance of the item\n",
    "print(name)"
   ]
  },
  {
   "cell_type": "code",
   "execution_count": 71,
   "metadata": {},
   "outputs": [
    {
     "name": "stdout",
     "output_type": "stream",
     "text": [
      "1256\n",
      "['Gokul ', 'gobi', 'Akshay', 'Nikhil']\n"
     ]
    }
   ],
   "source": [
    "popped_name = name.pop()\n",
    "print(popped_name)\n",
    "print(name)"
   ]
  },
  {
   "cell_type": "markdown",
   "metadata": {},
   "source": []
  },
  {
   "cell_type": "code",
   "execution_count": 77,
   "metadata": {},
   "outputs": [
    {
     "name": "stdout",
     "output_type": "stream",
     "text": [
      "0\n"
     ]
    }
   ],
   "source": [
    "index=name.index('Gokul ')\n",
    "print(index)\n"
   ]
  },
  {
   "cell_type": "code",
   "execution_count": 75,
   "metadata": {},
   "outputs": [
    {
     "name": "stdout",
     "output_type": "stream",
     "text": [
      "['Gokul ', 'gobi', 'Akshay', 'Nikhil']\n"
     ]
    }
   ],
   "source": [
    "print(name)"
   ]
  },
  {
   "cell_type": "code",
   "execution_count": 79,
   "metadata": {},
   "outputs": [
    {
     "name": "stdout",
     "output_type": "stream",
     "text": [
      "['Gokul ', 'gobi', 'Akshay', 'Nikhil', 'Blacho', 'Blacho']\n"
     ]
    }
   ],
   "source": [
    "name.insert(4,\"Blacho\")\n",
    "print(name)"
   ]
  },
  {
   "cell_type": "code",
   "execution_count": 81,
   "metadata": {},
   "outputs": [
    {
     "name": "stdout",
     "output_type": "stream",
     "text": [
      "['Akshay', 'Blacho', 'Blacho', 'Gokul ', 'Nikhil', 'gobi']\n"
     ]
    }
   ],
   "source": [
    "name.sort()\n",
    "print(name)"
   ]
  },
  {
   "cell_type": "code",
   "execution_count": 84,
   "metadata": {},
   "outputs": [
    {
     "name": "stdout",
     "output_type": "stream",
     "text": [
      "['gobi', 'Nikhil', 'Gokul ', 'Blacho', 'Blacho', 'Akshay']\n"
     ]
    }
   ],
   "source": [
    "name.reverse()\n",
    "print(name)"
   ]
  },
  {
   "cell_type": "code",
   "execution_count": 85,
   "metadata": {},
   "outputs": [
    {
     "name": "stdout",
     "output_type": "stream",
     "text": [
      "gobi\n",
      "Nikhil\n",
      "Gokul \n",
      "Blacho\n",
      "Blacho\n",
      "Akshay\n"
     ]
    }
   ],
   "source": [
    "## Iterate for a list\n",
    "for names in name:\n",
    "    print(names)"
   ]
  },
  {
   "cell_type": "code",
   "execution_count": 95,
   "metadata": {},
   "outputs": [
    {
     "name": "stdout",
     "output_type": "stream",
     "text": [
      "[0, 2, 4, 6, 8]\n"
     ]
    }
   ],
   "source": [
    "## nested list comprehension\n",
    "##[expresion with iterration]\n",
    "even=[x for x in range(10)  if x%2==0]\n",
    "print(even)"
   ]
  },
  {
   "cell_type": "code",
   "execution_count": 94,
   "metadata": {},
   "outputs": [
    {
     "name": "stdout",
     "output_type": "stream",
     "text": [
      "[0, 2, 4, 6, 8]\n"
     ]
    }
   ],
   "source": [
    "## with conditional logic [ experateion of item if condition]\n",
    "square = [num**2 for num in range(10)]\n",
    "for i in range(10):\n",
    "    if(i%2==0):\n",
    "        lst.append(i)\n",
    "print(lst)        "
   ]
  },
  {
   "cell_type": "code",
   "execution_count": 96,
   "metadata": {},
   "outputs": [
    {
     "data": {
      "text/plain": [
       "[[1, 'a'],\n",
       " [1, 'b'],\n",
       " [1, 'c'],\n",
       " [1, 'd'],\n",
       " [2, 'a'],\n",
       " [2, 'b'],\n",
       " [2, 'c'],\n",
       " [2, 'd'],\n",
       " [3, 'a'],\n",
       " [3, 'b'],\n",
       " [3, 'c'],\n",
       " [3, 'd']]"
      ]
     },
     "execution_count": 96,
     "metadata": {},
     "output_type": "execute_result"
    }
   ],
   "source": [
    "## Nested List coprehension\n",
    "lst1=[1,2,3]\n",
    "list2=['a','b','c']\n",
    "[[i,j]for i in lst1 for j in lst2] "
   ]
  },
  {
   "cell_type": "code",
   "execution_count": 97,
   "metadata": {},
   "outputs": [
    {
     "name": "stdout",
     "output_type": "stream",
     "text": [
      "[5, 4, 7]\n"
     ]
    }
   ],
   "source": [
    "checklen = [\"gokul\",\"Hari\",\"Dhanush\"]\n",
    "length = [ len(word) for  word in checklen ]\n",
    "print(length)"
   ]
  },
  {
   "cell_type": "code",
   "execution_count": 106,
   "metadata": {},
   "outputs": [
    {
     "name": "stdout",
     "output_type": "stream",
     "text": [
      "<class 'tuple'>\n"
     ]
    }
   ],
   "source": [
    "##  tuples are ordered collection that are immutable \n",
    "## creating a tuple\n",
    "empty_tuple =()\n",
    "print(type(empty_tuple))\n",
    "num_tuple = (1,2,3,16,17)"
   ]
  },
  {
   "cell_type": "code",
   "execution_count": 100,
   "metadata": {},
   "outputs": [
    {
     "data": {
      "text/plain": [
       "(1, 3.6, 'Gokul', 'j')"
      ]
     },
     "execution_count": 100,
     "metadata": {},
     "output_type": "execute_result"
    }
   ],
   "source": [
    "mixed_tuple = (1,3.6,\"Gokul\",\"j\")\n",
    "mixed_tuple"
   ]
  },
  {
   "cell_type": "code",
   "execution_count": 103,
   "metadata": {},
   "outputs": [
    {
     "data": {
      "text/plain": [
       "'j'"
      ]
     },
     "execution_count": 103,
     "metadata": {},
     "output_type": "execute_result"
    }
   ],
   "source": [
    "mixed_tuple[-1]"
   ]
  },
  {
   "cell_type": "code",
   "execution_count": 108,
   "metadata": {},
   "outputs": [
    {
     "name": "stdout",
     "output_type": "stream",
     "text": [
      "(1, 2, 3, 16, 17, 1, 3.6, 'Gokul', 'j')\n"
     ]
    }
   ],
   "source": [
    "## tuple operation\n",
    "concat_tuple= num_tuple+ mixed_tuple\n",
    "print(concat_tuple)"
   ]
  },
  {
   "cell_type": "code",
   "execution_count": 109,
   "metadata": {},
   "outputs": [
    {
     "data": {
      "text/plain": [
       "(1,\n",
       " 2,\n",
       " 3,\n",
       " 16,\n",
       " 17,\n",
       " 1,\n",
       " 3.6,\n",
       " 'Gokul',\n",
       " 'j',\n",
       " 1,\n",
       " 2,\n",
       " 3,\n",
       " 16,\n",
       " 17,\n",
       " 1,\n",
       " 3.6,\n",
       " 'Gokul',\n",
       " 'j',\n",
       " 1,\n",
       " 2,\n",
       " 3,\n",
       " 16,\n",
       " 17,\n",
       " 1,\n",
       " 3.6,\n",
       " 'Gokul',\n",
       " 'j')"
      ]
     },
     "execution_count": 109,
     "metadata": {},
     "output_type": "execute_result"
    }
   ],
   "source": [
    "concat_tuple*3"
   ]
  },
  {
   "cell_type": "code",
   "execution_count": 118,
   "metadata": {},
   "outputs": [
    {
     "name": "stdout",
     "output_type": "stream",
     "text": [
      "[1, 2, 3, 4, 5]\n"
     ]
    },
    {
     "data": {
      "text/plain": [
       "[1, 'gokul', 3, 4, 5]"
      ]
     },
     "execution_count": 118,
     "metadata": {},
     "output_type": "execute_result"
    }
   ],
   "source": [
    "## Immutable nature of tuples\n",
    "## Tuples are immutable  once assigned cannot be changed\n",
    "lst = [1,2,3,4,5]\n",
    "tup =(1,2,3,4,5,5,5)\n",
    "print(lst)\n",
    "lst[1]=\"gokul\"\n",
    "lst"
   ]
  },
  {
   "cell_type": "code",
   "execution_count": 115,
   "metadata": {},
   "outputs": [
    {
     "ename": "TypeError",
     "evalue": "'tuple' object does not support item assignment",
     "output_type": "error",
     "traceback": [
      "\u001b[1;31m---------------------------------------------------------------------------\u001b[0m",
      "\u001b[1;31mTypeError\u001b[0m                                 Traceback (most recent call last)",
      "Cell \u001b[1;32mIn[115], line 1\u001b[0m\n\u001b[1;32m----> 1\u001b[0m \u001b[43mtup\u001b[49m\u001b[43m[\u001b[49m\u001b[38;5;241;43m1\u001b[39;49m\u001b[43m]\u001b[49m\u001b[38;5;241m=\u001b[39m\u001b[38;5;124m\"\u001b[39m\u001b[38;5;124mgokul\u001b[39m\u001b[38;5;124m\"\u001b[39m\n",
      "\u001b[1;31mTypeError\u001b[0m: 'tuple' object does not support item assignment"
     ]
    }
   ],
   "source": [
    "tup[1]=\"gokul\"\n",
    "## convert it into list and convert back again if you really want to change\n"
   ]
  },
  {
   "cell_type": "code",
   "execution_count": 122,
   "metadata": {},
   "outputs": [
    {
     "name": "stdout",
     "output_type": "stream",
     "text": [
      "3\n",
      "4\n"
     ]
    }
   ],
   "source": [
    "print(tup.count(5))\n",
    "print(tup.index(5))"
   ]
  },
  {
   "cell_type": "code",
   "execution_count": 126,
   "metadata": {},
   "outputs": [
    {
     "name": "stdout",
     "output_type": "stream",
     "text": [
      "<class 'tuple'>\n",
      "Hello\n"
     ]
    }
   ],
   "source": [
    "## packing and unpacking tuple\n",
    "packed_tuple =1 ,\"Hello\",3.14\n",
    "print(type(packed_tuple))\n",
    "## unpacking a tuple\n",
    "a,b,c= packed_tuple\n",
    "print(b)\n",
    "      "
   ]
  },
  {
   "cell_type": "code",
   "execution_count": 1,
   "metadata": {},
   "outputs": [],
   "source": [
    "## Dictonary\n",
    "## DIctionary are  unordered collection and key , value pairs keys should be unique  and imutable"
   ]
  },
  {
   "cell_type": "code",
   "execution_count": 2,
   "metadata": {},
   "outputs": [
    {
     "data": {
      "text/plain": [
       "dict"
      ]
     },
     "execution_count": 2,
     "metadata": {},
     "output_type": "execute_result"
    }
   ],
   "source": [
    "## creating Dictonary \n",
    "empty_dic={}\n",
    "type(empty_dic)"
   ]
  },
  {
   "cell_type": "code",
   "execution_count": 4,
   "metadata": {},
   "outputs": [
    {
     "name": "stdout",
     "output_type": "stream",
     "text": [
      "{'name': 'gokul', 'age': 23, 'grade': 8.55}\n"
     ]
    }
   ],
   "source": [
    "student ={\"name\" : \"gokul\",\"age\":23,\"grade\":8.55}\n",
    "print(student)"
   ]
  },
  {
   "cell_type": "code",
   "execution_count": 9,
   "metadata": {},
   "outputs": [
    {
     "name": "stdout",
     "output_type": "stream",
     "text": [
      "8.55\n",
      "Not avalable\n"
     ]
    }
   ],
   "source": [
    "##  Accesing Dictonary element\n",
    "student[\"name\"]\n",
    "## Accesing using get methods\n",
    "print(student.get('grade'))\n",
    "print(student.get(\"Lastname\",\"Not avalable\"))"
   ]
  },
  {
   "cell_type": "code",
   "execution_count": 12,
   "metadata": {},
   "outputs": [
    {
     "name": "stdout",
     "output_type": "stream",
     "text": [
      "{'name': 'gokul'}\n"
     ]
    }
   ],
   "source": [
    "del student[\"age\"]\n",
    "print(student)"
   ]
  },
  {
   "cell_type": "code",
   "execution_count": 23,
   "metadata": {},
   "outputs": [
    {
     "name": "stdout",
     "output_type": "stream",
     "text": [
      "dict_keys(['name', 'age', 'grade'])\n",
      "dict_values(['gokul', 23, 8.55])\n",
      "dict_items([('name', 'gokul'), ('age', 23), ('grade', 8.55)])\n"
     ]
    }
   ],
   "source": [
    "##  Dictionary Methods\n",
    "student ={\"name\" : \"gokul\",\"age\":23,\"grade\":8.55}\n",
    "keys = student.keys()\n",
    "print(keys)\n",
    "values = student.values()\n",
    "print(values)\n",
    "items = student.items()\n",
    "print(items)"
   ]
  },
  {
   "cell_type": "code",
   "execution_count": 24,
   "metadata": {},
   "outputs": [
    {
     "name": "stdout",
     "output_type": "stream",
     "text": [
      "{'name': 'hari', 'age': 23, 'grade': 8.55}\n",
      "{'name': 'hari', 'age': 23, 'grade': 8.55}\n",
      "{'name': 'gokul', 'age': 23, 'grade': 8.55}\n"
     ]
    }
   ],
   "source": [
    "## Shallow copy\n",
    "student_copy =student\n",
    "\n",
    "\n",
    "student_copy_actual = student.copy()\n",
    "student_copy[\"name\"]=\"hari\"\n",
    "print(student)\n",
    "print(student_copy)\n",
    "print(student_copy_actual)\n"
   ]
  },
  {
   "cell_type": "code",
   "execution_count": 27,
   "metadata": {},
   "outputs": [
    {
     "name": "stdout",
     "output_type": "stream",
     "text": [
      "{0: 0, 1: 1, 2: 4, 3: 9, 4: 16}\n"
     ]
    }
   ],
   "source": [
    "## Dictonary Comprehensation\n",
    "square ={ x:x**2 for x in range(5)}\n",
    "print(square)"
   ]
  },
  {
   "cell_type": "code",
   "execution_count": 31,
   "metadata": {},
   "outputs": [],
   "source": [
    "## conditional\n",
    "squareset={}\n",
    "for x in range(10):\n",
    "    if(x%2==0):\n",
    "        squaref=x**2\n",
    "        squareset[x]=squaref\n",
    "        "
   ]
  },
  {
   "cell_type": "code",
   "execution_count": 32,
   "metadata": {},
   "outputs": [
    {
     "name": "stdout",
     "output_type": "stream",
     "text": [
      "{0: 0, 2: 4, 4: 16, 6: 36, 8: 64}\n"
     ]
    }
   ],
   "source": [
    "print(squareset)"
   ]
  },
  {
   "cell_type": "code",
   "execution_count": null,
   "metadata": {},
   "outputs": [],
   "source": [
    "## function\n",
    "def function_name(parametes):\n",
    "    \"Function defnition\"\n",
    "    return expression\n"
   ]
  },
  {
   "cell_type": "code",
   "execution_count": 3,
   "metadata": {},
   "outputs": [],
   "source": [
    "def checkEven( num):\n",
    "    \"\"\"\"This function check even or odd\"\"\"\n",
    "    if(num %2 ==0):\n",
    "        print(\"The given num is even\")\n",
    "    else:\n",
    "        print(\"THe num is odd\") \n",
    "           \n",
    "    "
   ]
  },
  {
   "cell_type": "code",
   "execution_count": 4,
   "metadata": {},
   "outputs": [
    {
     "name": "stdout",
     "output_type": "stream",
     "text": [
      "The given num is even\n"
     ]
    }
   ],
   "source": [
    "checkEven(62)"
   ]
  },
  {
   "cell_type": "code",
   "execution_count": 5,
   "metadata": {},
   "outputs": [],
   "source": [
    "### function with multiple parametes\n",
    "def add(a,b):\n",
    "    c=a+b\n",
    "    return c\n"
   ]
  },
  {
   "cell_type": "code",
   "execution_count": 6,
   "metadata": {},
   "outputs": [
    {
     "data": {
      "text/plain": [
       "28"
      ]
     },
     "execution_count": 6,
     "metadata": {},
     "output_type": "execute_result"
    }
   ],
   "source": [
    "add(5,23)"
   ]
  },
  {
   "cell_type": "code",
   "execution_count": 9,
   "metadata": {},
   "outputs": [
    {
     "name": "stdout",
     "output_type": "stream",
     "text": [
      "Hello Gokul\n"
     ]
    }
   ],
   "source": [
    "## Default parameters\n",
    "def great(name = \"guest\"):\n",
    "    print(f\"Hello {name}\")\n",
    "great(\"Gokul\")    "
   ]
  },
  {
   "cell_type": "code",
   "execution_count": 10,
   "metadata": {},
   "outputs": [
    {
     "name": "stdout",
     "output_type": "stream",
     "text": [
      "Hello guest\n"
     ]
    }
   ],
   "source": [
    "great()"
   ]
  },
  {
   "cell_type": "code",
   "execution_count": 11,
   "metadata": {},
   "outputs": [],
   "source": [
    "### Variable Length Arguments\n",
    "### Positional And Keyward Arguments\n",
    "def print_numbers(*args):\n",
    "    for num in args:\n",
    "        print(args)"
   ]
  },
  {
   "cell_type": "code",
   "execution_count": 12,
   "metadata": {},
   "outputs": [
    {
     "name": "stdout",
     "output_type": "stream",
     "text": [
      "(1, 2, 6, 9, 78)\n",
      "(1, 2, 6, 9, 78)\n",
      "(1, 2, 6, 9, 78)\n",
      "(1, 2, 6, 9, 78)\n",
      "(1, 2, 6, 9, 78)\n"
     ]
    }
   ],
   "source": [
    "print_numbers(1,2,6,9,78)"
   ]
  },
  {
   "cell_type": "code",
   "execution_count": 21,
   "metadata": {},
   "outputs": [],
   "source": [
    "##Keywards Arguments\n",
    "def keywardArduments(**kwargs):\n",
    "    for key,value in kwargs.items():\n",
    "        print(f'{key}: {value}')"
   ]
  },
  {
   "cell_type": "code",
   "execution_count": 23,
   "metadata": {},
   "outputs": [
    {
     "name": "stdout",
     "output_type": "stream",
     "text": [
      "name: gokul\n",
      "interest: {'Gen Ai', 'India'}\n"
     ]
    },
    {
     "ename": "",
     "evalue": "",
     "output_type": "error",
     "traceback": [
      "\u001b[1;31mThe Kernel crashed while executing code in the current cell or a previous cell. \n",
      "\u001b[1;31mPlease review the code in the cell(s) to identify a possible cause of the failure. \n",
      "\u001b[1;31mClick <a href='https://aka.ms/vscodeJupyterKernelCrash'>here</a> for more info. \n",
      "\u001b[1;31mView Jupyter <a href='command:jupyter.viewOutput'>log</a> for further details."
     ]
    }
   ],
   "source": [
    "keywardArduments(name=\"gokul\",interest = {\"Gen Ai\",\"India\"})"
   ]
  },
  {
   "cell_type": "code",
   "execution_count": 1,
   "metadata": {},
   "outputs": [
    {
     "name": "stdout",
     "output_type": "stream",
     "text": [
      "chekc\n"
     ]
    }
   ],
   "source": [
    "\n",
    "print(\"chekc\")"
   ]
  },
  {
   "cell_type": "code",
   "execution_count": 4,
   "metadata": {},
   "outputs": [],
   "source": [
    "def convert_temperature(temp,unit):\n",
    "    if unit == \"c\" :\n",
    "        return temp*9/5+32;\n",
    "    elif unit == \"f\" :\n",
    "        return (temp-32)*5/9 "
   ]
  },
  {
   "cell_type": "code",
   "execution_count": 5,
   "metadata": {},
   "outputs": [
    {
     "data": {
      "text/plain": [
       "77.0"
      ]
     },
     "execution_count": 5,
     "metadata": {},
     "output_type": "execute_result"
    }
   ],
   "source": [
    "convert_temperature(25,\"c\")"
   ]
  },
  {
   "cell_type": "markdown",
   "metadata": {},
   "source": [
    "Password length checker"
   ]
  },
  {
   "cell_type": "code",
   "execution_count": null,
   "metadata": {},
   "outputs": [],
   "source": []
  },
  {
   "cell_type": "code",
   "execution_count": 22,
   "metadata": {},
   "outputs": [],
   "source": [
    "def password_checker(password):\n",
    "\n",
    "    if(len(password)<8):\n",
    "        print(\"Invalid length\")\n",
    "        return False\n",
    "    if not any(char.isdigit() for char in password):\n",
    "        print(char.isdigit() for char in password)\n",
    "        return False\n",
    "    if not any(char.islower()  for char in password):\n",
    "        return False\n",
    "    if not any(char.isupper for chr in password):\n",
    "        return False\n",
    "    return True\n"
   ]
  },
  {
   "cell_type": "code",
   "execution_count": 23,
   "metadata": {},
   "outputs": [
    {
     "data": {
      "text/plain": [
       "False"
      ]
     },
     "execution_count": 23,
     "metadata": {},
     "output_type": "execute_result"
    }
   ],
   "source": [
    "password_checker(\"1236464686868\")"
   ]
  },
  {
   "cell_type": "markdown",
   "metadata": {},
   "source": [
    "Example 3 calculate  the cost of items in a Shopping Cart"
   ]
  },
  {
   "cell_type": "code",
   "execution_count": 30,
   "metadata": {},
   "outputs": [],
   "source": [
    "def calculate_total_cart(cart):\n",
    "    total_cost=0 \n",
    "    for item in cart:\n",
    "        total_cost = total_cost+ item['cost']\n",
    "    return total_cost\n",
    "cart = [\n",
    "    {\"name\": \"Apples\", \"cost\": 3.50},\n",
    "    {\"name\": \"Bread\", \"cost\": 2.25},\n",
    "    {\"name\": \"Milk\", \"cost\": 1.75},\n",
    "    {\"name\": \"Eggs\", \"cost\": 2.00},\n",
    "    {\"name\": \"Chicken\", \"cost\": 8.99}\n",
    "]\n"
   ]
  },
  {
   "cell_type": "code",
   "execution_count": 31,
   "metadata": {},
   "outputs": [
    {
     "data": {
      "text/plain": [
       "18.490000000000002"
      ]
     },
     "execution_count": 31,
     "metadata": {},
     "output_type": "execute_result"
    }
   ],
   "source": [
    "calculate_total_cart(cart)"
   ]
  },
  {
   "cell_type": "code",
   "execution_count": 33,
   "metadata": {},
   "outputs": [],
   "source": [
    "def fact(n):\n",
    "    if n==0:\n",
    "        return 1\n",
    "    elif n>=0:\n",
    "        return n* fact(n-1)"
   ]
  },
  {
   "cell_type": "code",
   "execution_count": 39,
   "metadata": {},
   "outputs": [
    {
     "data": {
      "text/plain": [
       "120"
      ]
     },
     "execution_count": 39,
     "metadata": {},
     "output_type": "execute_result"
    }
   ],
   "source": [
    "fact(5)"
   ]
  },
  {
   "cell_type": "code",
   "execution_count": null,
   "metadata": {},
   "outputs": [],
   "source": []
  },
  {
   "cell_type": "markdown",
   "metadata": {},
   "source": [
    "Read a file and count frequency of each word"
   ]
  },
  {
   "cell_type": "code",
   "execution_count": 51,
   "metadata": {},
   "outputs": [],
   "source": [
    "def count_word_frequency(file_path):\n",
    "    word_dict = {}\n",
    "    with open(file_path,'r') as file:\n",
    "        for line in file:\n",
    "            \n",
    "            single_line = line.split()\n",
    "            print(single_line)\n",
    "            for words in single_line:\n",
    "                    word =  words.lower().strip('.,!?;:\"\\'')\n",
    "                    word_dict[word] = word_dict.get(word,0)+1\n",
    "    return word_dict    "
   ]
  },
  {
   "cell_type": "code",
   "execution_count": 54,
   "metadata": {},
   "outputs": [
    {
     "name": "stdout",
     "output_type": "stream",
     "text": [
      "[\"''''\"]\n",
      "['Gokul', 'Das', 'is', 'here']\n",
      "[\"'''Hdook\", 'test', 'cvase', 'testcase', 'test', 's']\n",
      "[]\n",
      "{'': 1, 'gokul': 1, 'das': 1, 'is': 1, 'here': 1, 'hdook': 1, 'test': 2, 'cvase': 1, 'testcase': 1, 's': 1}\n",
      "[\"''''\"]\n",
      "['Gokul', 'Das', 'is', 'here']\n",
      "[\"'''Hdook\", 'test', 'cvase', 'testcase', 'test', 's']\n",
      "[]\n"
     ]
    }
   ],
   "source": [
    "print(count_word_frequency(\"text.txt\"))\n",
    "dic = count_word_frequency(\"text.txt\")"
   ]
  },
  {
   "cell_type": "code",
   "execution_count": 55,
   "metadata": {},
   "outputs": [
    {
     "data": {
      "text/plain": [
       "0"
      ]
     },
     "execution_count": 55,
     "metadata": {},
     "output_type": "execute_result"
    }
   ],
   "source": [
    "dic.get(\"gggg\",0)"
   ]
  },
  {
   "cell_type": "code",
   "execution_count": 5,
   "metadata": {},
   "outputs": [],
   "source": [
    "#  lamda function \n",
    "## wherever there is a single expression we can  use lamda to make it "
   ]
  },
  {
   "cell_type": "code",
   "execution_count": 3,
   "metadata": {},
   "outputs": [
    {
     "data": {
      "text/plain": [
       "62"
      ]
     },
     "execution_count": 3,
     "metadata": {},
     "output_type": "execute_result"
    }
   ],
   "source": [
    "add = lambda a,b : a+b\n",
    "add(56,6)"
   ]
  },
  {
   "cell_type": "code",
   "execution_count": 4,
   "metadata": {},
   "outputs": [
    {
     "data": {
      "text/plain": [
       "False"
      ]
     },
     "execution_count": 4,
     "metadata": {},
     "output_type": "execute_result"
    }
   ],
   "source": [
    "even1 = lambda num : num %2 ==0\n",
    "even1(55)"
   ]
  },
  {
   "cell_type": "code",
   "execution_count": 29,
   "metadata": {},
   "outputs": [
    {
     "name": "stdout",
     "output_type": "stream",
     "text": [
      "[1, 4, 9, 16]\n"
     ]
    }
   ],
   "source": [
    "##map ()\n",
    "num = [1,2,3,4,5]\n",
    "numberlist=[]\n",
    "i=0\n",
    "def square(num):\n",
    "    i=0\n",
    "    for i in range(len(num)-1) :\n",
    "        numberlist.append(num[i] **2)\n",
    "        \n",
    "        \n",
    "    print(numberlist)  \n",
    "square(num)     \n"
   ]
  },
  {
   "cell_type": "code",
   "execution_count": 30,
   "metadata": {},
   "outputs": [
    {
     "data": {
      "text/plain": [
       "[1, 4, 9, 16, 25]"
      ]
     },
     "execution_count": 30,
     "metadata": {},
     "output_type": "execute_result"
    }
   ],
   "source": [
    "\n",
    "## mao apllies a same function to a list of items\n",
    "list(map(lambda x:x**2,num))"
   ]
  },
  {
   "cell_type": "code",
   "execution_count": 37,
   "metadata": {},
   "outputs": [
    {
     "name": "stdout",
     "output_type": "stream",
     "text": [
      "[7, 8, 12]\n"
     ]
    }
   ],
   "source": [
    "num1 =[1,3,5,56,98]\n",
    "num2 = [6,5,7]\n",
    "added= list(map(lambda x,y :x+y,num1,num2 ))\n",
    "\n",
    "print(added)"
   ]
  },
  {
   "cell_type": "code",
   "execution_count": 39,
   "metadata": {},
   "outputs": [
    {
     "name": "stdout",
     "output_type": "stream",
     "text": [
      "[10, 20, 30, 40, 50]\n"
     ]
    }
   ],
   "source": [
    "number_strings = [\"10\", \"20\", \"30\", \"40\", \"50\"]\n",
    "conver = list(map(lambda letter :int(letter),number_strings))\n",
    "print(conver)"
   ]
  },
  {
   "cell_type": "code",
   "execution_count": 46,
   "metadata": {},
   "outputs": [
    {
     "name": "stdout",
     "output_type": "stream",
     "text": [
      "['Alice', 'Bob', 'Charlie', 'Diana']\n",
      "['Alice', 'Bob', 'Charlie', 'Diana']\n"
     ]
    }
   ],
   "source": [
    "list_of_dicts = [\n",
    "    {\"name\": \"Alice\", \"age\": 30, \"city\": \"New York\"},\n",
    "    {\"name\": \"Bob\", \"age\": 25, \"city\": \"Los Angeles\"},\n",
    "    {\"name\": \"Charlie\", \"age\": 35, \"city\": \"Chicago\"},\n",
    "    {\"name\": \"Diana\", \"age\": 28, \"city\": \"San Francisco\"}\n",
    "]\n",
    "def get_name(list_of_dicts):\n",
    "    return list_of_dicts['name']\n",
    "\n",
    "\n",
    "name_list = list(map(lambda name :name.get(\"name\"),list_of_dicts))\n",
    "print(name_list)\n",
    "print(list(map(get_name,list_of_dicts)))"
   ]
  },
  {
   "cell_type": "code",
   "execution_count": 2,
   "metadata": {},
   "outputs": [],
   "source": [
    "import array\n",
    "arr = array.array('i',[1,2,5,78])"
   ]
  },
  {
   "cell_type": "code",
   "execution_count": 3,
   "metadata": {},
   "outputs": [
    {
     "name": "stdout",
     "output_type": "stream",
     "text": [
      "array('i', [1, 2, 5, 78])\n"
     ]
    }
   ],
   "source": [
    "print(arr)"
   ]
  },
  {
   "cell_type": "code",
   "execution_count": 11,
   "metadata": {},
   "outputs": [
    {
     "name": "stdout",
     "output_type": "stream",
     "text": [
      "3\n"
     ]
    }
   ],
   "source": [
    "### random\n",
    "import random\n",
    "print(random.randint(0,10))"
   ]
  },
  {
   "cell_type": "code",
   "execution_count": 13,
   "metadata": {},
   "outputs": [
    {
     "name": "stdout",
     "output_type": "stream",
     "text": [
      "c:\\Users\\dgkgo\\desktop\\generativeai\\1-Python Basic\n"
     ]
    }
   ],
   "source": [
    "## file and directory access\n",
    "import os\n",
    "print(os.getcwd())"
   ]
  },
  {
   "cell_type": "code",
   "execution_count": 15,
   "metadata": {},
   "outputs": [
    {
     "ename": "FileExistsError",
     "evalue": "[WinError 183] Cannot create a file when that file already exists: 'test_dir'",
     "output_type": "error",
     "traceback": [
      "\u001b[1;31m---------------------------------------------------------------------------\u001b[0m",
      "\u001b[1;31mFileExistsError\u001b[0m                           Traceback (most recent call last)",
      "Cell \u001b[1;32mIn[15], line 1\u001b[0m\n\u001b[1;32m----> 1\u001b[0m \u001b[43mos\u001b[49m\u001b[38;5;241;43m.\u001b[39;49m\u001b[43mmkdir\u001b[49m\u001b[43m(\u001b[49m\u001b[38;5;124;43m'\u001b[39;49m\u001b[38;5;124;43mtest_dir\u001b[39;49m\u001b[38;5;124;43m'\u001b[39;49m\u001b[43m)\u001b[49m\n",
      "\u001b[1;31mFileExistsError\u001b[0m: [WinError 183] Cannot create a file when that file already exists: 'test_dir'"
     ]
    }
   ],
   "source": [
    "os.mkdir('test_dir')"
   ]
  },
  {
   "cell_type": "code",
   "execution_count": 21,
   "metadata": {},
   "outputs": [
    {
     "data": {
      "text/plain": [
       "'copied.txt'"
      ]
     },
     "execution_count": 21,
     "metadata": {},
     "output_type": "execute_result"
    }
   ],
   "source": [
    "import shutil\n",
    "shutil.copyfile('sample.txt','copied.txt')"
   ]
  },
  {
   "cell_type": "code",
   "execution_count": 36,
   "metadata": {},
   "outputs": [
    {
     "name": "stdout",
     "output_type": "stream",
     "text": [
      "{\"name\": \"Alice\", \"age\": 30, \"city\": \"New York\"}\n"
     ]
    },
    {
     "data": {
      "text/plain": [
       "str"
      ]
     },
     "execution_count": 36,
     "metadata": {},
     "output_type": "execute_result"
    }
   ],
   "source": [
    "# Creating a dictionary with initial key-value pairs\n",
    "import json\n",
    "my_dict = {\n",
    "    'name': 'Alice',\n",
    "    'age': 30,\n",
    "    'city': 'New York'\n",
    "}\n",
    "json_str = json.dumps(my_dict)\n",
    "print(json_str)\n",
    "type(json_str)\n",
    "\n",
    "\n"
   ]
  },
  {
   "cell_type": "code",
   "execution_count": 38,
   "metadata": {},
   "outputs": [
    {
     "data": {
      "text/plain": [
       "dict"
      ]
     },
     "execution_count": 38,
     "metadata": {},
     "output_type": "execute_result"
    }
   ],
   "source": [
    "\n",
    "# Correct usage with a JSON string\n",
    "json_str = '{\"name\": \"Alice\", \"age\": 30, \"city\": \"New York\"}'\n",
    "parsed_dict = json.loads(json_str)\n",
    "type(parsed_dict)"
   ]
  },
  {
   "cell_type": "code",
   "execution_count": 43,
   "metadata": {},
   "outputs": [
    {
     "name": "stdout",
     "output_type": "stream",
     "text": [
      "2024-08-06 07:44:38.806088\n",
      "2024-08-05 07:44:38.806088\n"
     ]
    }
   ],
   "source": [
    "### date time\n",
    "from datetime import datetime,timedelta\n",
    "now = datetime.now()\n",
    "print(now)\n",
    "yesterday = now - timedelta(days=1)\n",
    "print(yesterday)"
   ]
  },
  {
   "cell_type": "code",
   "execution_count": 45,
   "metadata": {},
   "outputs": [
    {
     "name": "stdout",
     "output_type": "stream",
     "text": [
      "1722910549.3122585\n",
      "1722910553.3129547\n"
     ]
    }
   ],
   "source": [
    "import time\n",
    "print(time.time())\n",
    "time.sleep(4)\n",
    "print(time.time())"
   ]
  },
  {
   "cell_type": "markdown",
   "metadata": {},
   "source": []
  },
  {
   "cell_type": "markdown",
   "metadata": {},
   "source": [
    "Reading the file"
   ]
  },
  {
   "cell_type": "code",
   "execution_count": 3,
   "metadata": {},
   "outputs": [
    {
     "name": "stdout",
     "output_type": "stream",
     "text": [
      "hai hellp leas check\n",
      "CHeck for something\n",
      "Read 3 line\n"
     ]
    }
   ],
   "source": [
    "with open('sample.txt','r') as file:\n",
    "    content = file.read()\n",
    "    print(content)"
   ]
  },
  {
   "cell_type": "code",
   "execution_count": 6,
   "metadata": {},
   "outputs": [
    {
     "name": "stdout",
     "output_type": "stream",
     "text": [
      "hai hellp leas check\n",
      "CHeck for something\n",
      "Read 3 line\n"
     ]
    }
   ],
   "source": [
    "with open('sample.txt','r') as filecheck:\n",
    "    for linr in filecheck:\n",
    "        print(linr.strip())"
   ]
  },
  {
   "cell_type": "code",
   "execution_count": 9,
   "metadata": {},
   "outputs": [],
   "source": [
    "with open('write.txt','w') as filewrite:\n",
    "    filewrite.write(\"heloo wor;d\\n\")"
   ]
  },
  {
   "cell_type": "code",
   "execution_count": 11,
   "metadata": {},
   "outputs": [],
   "source": [
    "## write a file without overiding\n",
    "with open('write.txt','a') as append_file:\n",
    "    append_file.write(\"\\nApppending\")"
   ]
  },
  {
   "cell_type": "code",
   "execution_count": 12,
   "metadata": {},
   "outputs": [],
   "source": [
    "## binary filesda\n",
    "data = bytearray([0b10101010, 0b01010101, 0b11110000, 0b00001111])  # Example binary data\n",
    "with open('binary_file.bin', 'wb') as file:\n",
    "    file.write(data)\n",
    "\n"
   ]
  },
  {
   "cell_type": "code",
   "execution_count": 18,
   "metadata": {},
   "outputs": [],
   "source": [
    "## content from soure and write\n",
    "with open('sample.txt','r') as file:\n",
    "    content=file.read()\n",
    "with open('write.txt','w') as write:\n",
    "    write.write(content)    "
   ]
  },
  {
   "cell_type": "code",
   "execution_count": 5,
   "metadata": {},
   "outputs": [
    {
     "name": "stdout",
     "output_type": "stream",
     "text": [
      "name 'b' is not defined\n",
      "Unexcepted Scnerio PLease Fix\n"
     ]
    }
   ],
   "source": [
    "try:\n",
    "    a=9/1\n",
    "    a=b\n",
    "except ZeroDivisionError as ex:\n",
    "    print(ex)\n",
    "    print(\"Enter number greater than zero\")   \n",
    "except Exception as ex2:\n",
    "    print(ex2)\n",
    "    print(\"Unexcepted Scnerio PLease Fix\")"
   ]
  },
  {
   "cell_type": "code",
   "execution_count": 1,
   "metadata": {},
   "outputs": [
    {
     "name": "stdout",
     "output_type": "stream",
     "text": [
      "The result is 0.2\n",
      "Releasing igt from sanction\n"
     ]
    }
   ],
   "source": [
    "##  try except else block\n",
    "try:\n",
    "    num = int(input(\"Enter a num\"))\n",
    "    res= 5/num\n",
    "except ValueError:\n",
    "    print(\"Enter a valid number\") \n",
    "except ZeroDivisionError as ZD:\n",
    "    print(ZD) \n",
    "except Exception as ex :\n",
    "    print(ex)\n",
    "else:\n",
    "    print(f\"The result is {res}\")     \n",
    "finally:\n",
    "    print(f\"Releasing igt from sanction\")    \n"
   ]
  },
  {
   "cell_type": "code",
   "execution_count": 18,
   "metadata": {},
   "outputs": [],
   "source": [
    "class Car:\n",
    "    def __init__(self, name,no_of_wheels):\n",
    "        self.name = name\n",
    "        self.no_of_wheels = no_of_wheels\n",
    "    \n",
    "    def speak(self):\n",
    "        print(\"SPeaking\")"
   ]
  },
  {
   "cell_type": "code",
   "execution_count": 19,
   "metadata": {},
   "outputs": [],
   "source": [
    "class Tesla(Car):\n",
    "    def __init__(self, name, no_of_wheels,driving_mode):\n",
    "        super().__init__(name, no_of_wheels)\n",
    "        self.driving_mode = driving_mode\n",
    "    def mode_of_car(self):\n",
    "        print(f\"Tesla mode of driving: {self.driving_mode}\")    "
   ]
  },
  {
   "cell_type": "code",
   "execution_count": 20,
   "metadata": {},
   "outputs": [],
   "source": [
    "tesla = Tesla(\"Tesla\",4,\"EV\")"
   ]
  },
  {
   "cell_type": "code",
   "execution_count": 21,
   "metadata": {},
   "outputs": [
    {
     "name": "stdout",
     "output_type": "stream",
     "text": [
      "Tesla mode of driving: EV\n"
     ]
    }
   ],
   "source": [
    "tesla.mode_of_car()"
   ]
  },
  {
   "cell_type": "code",
   "execution_count": 22,
   "metadata": {},
   "outputs": [
    {
     "name": "stdout",
     "output_type": "stream",
     "text": [
      "SPeaking\n"
     ]
    }
   ],
   "source": [
    "tesla.speak()"
   ]
  },
  {
   "cell_type": "code",
   "execution_count": null,
   "metadata": {},
   "outputs": [],
   "source": []
  },
  {
   "cell_type": "markdown",
   "metadata": {},
   "source": [
    "Polymorphism it provides a way  to perform a single action in different forms ,Polyymorphism is typically acheived through method overriding and interfaces"
   ]
  },
  {
   "cell_type": "code",
   "execution_count": 3,
   "metadata": {},
   "outputs": [],
   "source": [
    "class Car:\n",
    "    def __init__(self, name,no_of_wheels):\n",
    "        self.name = name\n",
    "        self.no_of_wheels = no_of_wheels\n",
    "    \n",
    "    def speak(self):\n",
    "        print(\"SPeaking\")\n",
    "        \n",
    "class Tesla(Car):\n",
    "    def __init__(self, name, no_of_wheels,driving_mode):\n",
    "        super().__init__(name, no_of_wheels)\n",
    "        self.driving_mode = driving_mode\n",
    "    def mode_of_car(self):\n",
    "        print(f\"Tesla mode of driving: {self.driving_mode}\") \n",
    "    def speak(self):\n",
    "        print(\"SHOOOOOOOOOO\")    \n",
    "        "
   ]
  },
  {
   "cell_type": "code",
   "execution_count": 4,
   "metadata": {},
   "outputs": [
    {
     "name": "stdout",
     "output_type": "stream",
     "text": [
      "SHOOOOOOOOOO\n"
     ]
    }
   ],
   "source": [
    "tesla = Tesla(\"Tesla\",4,\"EV\")\n",
    "tesla.speak()"
   ]
  },
  {
   "cell_type": "code",
   "execution_count": 6,
   "metadata": {},
   "outputs": [],
   "source": [
    "## poly morphism with abstract base classes\n",
    "\n",
    "##common methods for a group of related object\n",
    "  "
   ]
  },
  {
   "cell_type": "code",
   "execution_count": 1,
   "metadata": {},
   "outputs": [],
   "source": [
    "from abc import ABC,abstractmethod\n",
    "\n",
    "class Vehicle(ABC):\n",
    "    @abstractmethod\n",
    "    def engine_start(self):\n",
    "        pass\n",
    "class Car(Vehicle):\n",
    "    def engine_start(self):\n",
    "        print(\"Car ENgine started\")\n",
    "class MotorCycle(Vehicle):\n",
    "    def engine_start(self):\n",
    "        print(\"Motor Bike ENgine\")      \n",
    "car = Car()   \n",
    "motorCycle =MotorCycle()          "
   ]
  },
  {
   "cell_type": "code",
   "execution_count": 2,
   "metadata": {},
   "outputs": [
    {
     "name": "stdout",
     "output_type": "stream",
     "text": [
      "Car ENgine started\n",
      "Motor Bike ENgine\n"
     ]
    }
   ],
   "source": [
    "car.engine_start()\n",
    "motorCycle.engine_start()"
   ]
  },
  {
   "cell_type": "markdown",
   "metadata": {},
   "source": [
    "encapsulation :- wrappinh pd data and methods in a single unit"
   ]
  },
  {
   "cell_type": "code",
   "execution_count": 10,
   "metadata": {},
   "outputs": [],
   "source": [
    "### Encapsulation wwith private getter settrr\n",
    "class Car:\n",
    "    def __init__(self, name,no_of_wheels,company):\n",
    "        self.__name = name   ## private variable\n",
    "        self.__no_of_wheels = no_of_wheels\n",
    "        self.company =company\n",
    "    \n",
    "    def speak(self):\n",
    "        print(\"SPeaking\")\n",
    "def getname(car):\n",
    "    print(car.company)        \n",
    "car_oobj = Car(\"800\",6,\"Maruthy\")        \n"
   ]
  },
  {
   "cell_type": "code",
   "execution_count": 12,
   "metadata": {},
   "outputs": [
    {
     "name": "stdout",
     "output_type": "stream",
     "text": [
      "Maruthy\n"
     ]
    }
   ],
   "source": [
    "getname(car_oobj)"
   ]
  },
  {
   "cell_type": "code",
   "execution_count": 15,
   "metadata": {},
   "outputs": [],
   "source": [
    "## encapusalation with getter and setter \n",
    "class Person:\n",
    "    def __init__(self,name,age):\n",
    "        self.__name =name\n",
    "        self.__age=age\n",
    "    def  get_name(self):\n",
    "        return self.__name \n",
    "    def set_name(self,name):\n",
    "\n",
    "        self__name=name\n",
    "        return \"SuCCESS\"\n",
    "        "
   ]
  },
  {
   "cell_type": "code",
   "execution_count": 16,
   "metadata": {},
   "outputs": [
    {
     "data": {
      "text/plain": [
       "'gokul'"
      ]
     },
     "execution_count": 16,
     "metadata": {},
     "output_type": "execute_result"
    }
   ],
   "source": [
    "person =Person(\"gokul\",23)\n",
    "person.get_name()"
   ]
  },
  {
   "cell_type": "code",
   "execution_count": 18,
   "metadata": {},
   "outputs": [
    {
     "data": {
      "text/plain": [
       "'SuCCESS'"
      ]
     },
     "execution_count": 18,
     "metadata": {},
     "output_type": "execute_result"
    }
   ],
   "source": [
    "person.set_name(\"Nikhil Harikumar\")"
   ]
  },
  {
   "cell_type": "code",
   "execution_count": null,
   "metadata": {},
   "outputs": [],
   "source": []
  }
 ],
 "metadata": {
  "kernelspec": {
   "display_name": "Python 3",
   "language": "python",
   "name": "python3"
  },
  "language_info": {
   "codemirror_mode": {
    "name": "ipython",
    "version": 3
   },
   "file_extension": ".py",
   "mimetype": "text/x-python",
   "name": "python",
   "nbconvert_exporter": "python",
   "pygments_lexer": "ipython3",
   "version": "3.12.0"
  }
 },
 "nbformat": 4,
 "nbformat_minor": 2
}
